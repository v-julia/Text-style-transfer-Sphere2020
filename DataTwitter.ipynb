{
 "cells": [
  {
   "cell_type": "code",
   "execution_count": 10,
   "metadata": {},
   "outputs": [],
   "source": [
    "import pandas as pd\n",
    "from nltk.tokenize import TweetTokenizer\n",
    "from tqdm import tqdm\n",
    "import random\n",
    "import copy"
   ]
  },
  {
   "cell_type": "code",
   "execution_count": null,
   "metadata": {},
   "outputs": [],
   "source": [
    "tknzr = TweetTokenizer(strip_handles=True, reduce_len=True)"
   ]
  },
  {
   "cell_type": "code",
   "execution_count": 4,
   "metadata": {},
   "outputs": [],
   "source": [
    "datapath = \"data_twitter/\"\n",
    "def parse_csv_twitter(filename, fileout):\n",
    "    pos_df = pd.read_csv(datapath+filename, sep=\";\", header=None)\n",
    "    txts_df = list(pos_df[3])\n",
    "    \n",
    "    texts_revised = []\n",
    "    for text in txts_df:\n",
    "        words = tknzr.tokenize(text)\n",
    "        words_new = list(filter(lambda word: not word.startswith('http') and not word.startswith('#'), words))   \n",
    "        texts_revised.append(' '.join(words_new).replace('RT :', '').replace('\"', ''))\n",
    "    with open(datapath+fileout, 'w', encoding='UTF-8') as f:\n",
    "        for s in texts_revised:\n",
    "            f.write(s)\n",
    "            f.write('\\n')\n",
    "    f.close()"
   ]
  },
  {
   "cell_type": "code",
   "execution_count": 42,
   "metadata": {},
   "outputs": [],
   "source": [
    "parse_csv_twitter(\"positive.csv\", \"pos.txt\")"
   ]
  },
  {
   "cell_type": "code",
   "execution_count": 43,
   "metadata": {},
   "outputs": [],
   "source": [
    "parse_csv_twitter(\"negative.csv\", \"neg.txt\")"
   ]
  },
  {
   "cell_type": "code",
   "execution_count": 6,
   "metadata": {},
   "outputs": [],
   "source": [
    "def load_sentences(file_path):\n",
    "    with open(file_path, encoding='UTF-8') as f:\n",
    "        sent = [line.strip('\\n') for line in f]\n",
    "    return sent"
   ]
  },
  {
   "cell_type": "code",
   "execution_count": 12,
   "metadata": {},
   "outputs": [],
   "source": [
    "def save_sentences(list_sent, file_path):\n",
    "    with open(file_path, 'w', encoding='UTF-8') as f:\n",
    "        for s in list_sent:\n",
    "            f.write(s + '\\n')\n",
    "    f.close() "
   ]
  },
  {
   "cell_type": "code",
   "execution_count": 20,
   "metadata": {},
   "outputs": [],
   "source": [
    "def split_dataset(sentences, temp_name, tr, d):\n",
    "    sent_temp = copy.deepcopy(sentences)\n",
    "    random.shuffle(sent_temp)\n",
    "    train = sent_temp[:int(tr*(len(sent_temp)))]\n",
    "    dev = sent_temp[int(tr*(len(sent_temp))):int(tr*(len(sent_temp)))+int(d*(len(sent_temp)))]\n",
    "    test = sent_temp[int(tr*(len(sent_temp)))+int(d*(len(sent_temp))):]\n",
    "    \n",
    "    save_sentences(train, datapath+temp_name+'.train')\n",
    "    save_sentences(dev, datapath+temp_name+'.dev')\n",
    "    save_sentences(test, datapath+temp_name+'.test')\n",
    "    "
   ]
  },
  {
   "cell_type": "code",
   "execution_count": 7,
   "metadata": {},
   "outputs": [],
   "source": [
    "pos_sent = load_sentences(datapath+\"pos.txt\")"
   ]
  },
  {
   "cell_type": "code",
   "execution_count": 21,
   "metadata": {},
   "outputs": [],
   "source": [
    "split_dataset(pos_sent, 'twitter_pos', 0.7, 0.2)"
   ]
  },
  {
   "cell_type": "code",
   "execution_count": 22,
   "metadata": {},
   "outputs": [],
   "source": [
    "neg_sent = load_sentences(datapath+\"neg.txt\")"
   ]
  },
  {
   "cell_type": "code",
   "execution_count": null,
   "metadata": {},
   "outputs": [],
   "source": [
    "split_dataset(neg_sent, 'twitter_neg', 0.7, 0.2)"
   ]
  }
 ],
 "metadata": {
  "kernelspec": {
   "display_name": "Python 3",
   "language": "python",
   "name": "python3"
  },
  "language_info": {
   "codemirror_mode": {
    "name": "ipython",
    "version": 3
   },
   "file_extension": ".py",
   "mimetype": "text/x-python",
   "name": "python",
   "nbconvert_exporter": "python",
   "pygments_lexer": "ipython3",
   "version": "3.7.5"
  }
 },
 "nbformat": 4,
 "nbformat_minor": 4
}
