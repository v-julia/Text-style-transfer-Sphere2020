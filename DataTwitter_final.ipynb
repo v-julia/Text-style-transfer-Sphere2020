{
 "cells": [
  {
   "cell_type": "markdown",
   "metadata": {},
   "source": [
    "# Подготовка данных"
   ]
  },
  {
   "cell_type": "code",
   "execution_count": 25,
   "metadata": {},
   "outputs": [],
   "source": [
    "import pandas as pd\n",
    "from nltk.tokenize import TweetTokenizer\n",
    "from tqdm import tqdm\n",
    "import random\n",
    "import copy"
   ]
  },
  {
   "cell_type": "code",
   "execution_count": 26,
   "metadata": {},
   "outputs": [],
   "source": [
    "tknzr = TweetTokenizer(strip_handles=True, reduce_len=True)"
   ]
  },
  {
   "cell_type": "code",
   "execution_count": 27,
   "metadata": {},
   "outputs": [],
   "source": [
    "datapath = \"data_twitter/\"\n",
    "def parse_csv_twitter(filename, fileout):\n",
    "    pos_df = pd.read_csv(datapath+filename, sep=\";\", header=None)\n",
    "    txts_df = list(pos_df[3])\n",
    "    \n",
    "    texts_revised = []\n",
    "    for text in txts_df:\n",
    "        words = tknzr.tokenize(text)\n",
    "        words_new = list(filter(lambda word: not word.startswith('http') and not word.startswith('#'), words))\n",
    "        if len(words_new) == 0:\n",
    "            continue\n",
    "        else:\n",
    "            texts_revised.append(' '.join(words_new).replace('RT :', '').replace('\"', ''))\n",
    "    with open(datapath+fileout, 'w', encoding='UTF-8') as f:\n",
    "        for s in texts_revised:\n",
    "            f.write(s.lower())\n",
    "            f.write('\\n')\n",
    "    f.close()"
   ]
  },
  {
   "cell_type": "code",
   "execution_count": 28,
   "metadata": {},
   "outputs": [],
   "source": [
    "parse_csv_twitter(\"positive.csv\", \"pos.txt\")"
   ]
  },
  {
   "cell_type": "code",
   "execution_count": 29,
   "metadata": {},
   "outputs": [],
   "source": [
    "parse_csv_twitter(\"negative.csv\", \"neg.txt\")"
   ]
  },
  {
   "cell_type": "code",
   "execution_count": 30,
   "metadata": {},
   "outputs": [],
   "source": [
    "def load_sentences(file_path):\n",
    "    with open(file_path, encoding='UTF-8') as f:\n",
    "        sent = [line.strip('\\n') for line in f]\n",
    "    return sent"
   ]
  },
  {
   "cell_type": "code",
   "execution_count": 31,
   "metadata": {},
   "outputs": [],
   "source": [
    "def save_sentences(list_sent, file_path):\n",
    "    with open(file_path, 'w', encoding='UTF-8') as f:\n",
    "        for s in list_sent:\n",
    "            f.write(s + '\\n')\n",
    "    f.close() "
   ]
  },
  {
   "cell_type": "code",
   "execution_count": 32,
   "metadata": {},
   "outputs": [],
   "source": [
    "def split_dataset(sentences, temp_name, tr, d):\n",
    "    sent_temp = copy.deepcopy(sentences)\n",
    "    random.shuffle(sent_temp)\n",
    "    train = sent_temp[:int(tr*(len(sent_temp)))]\n",
    "    dev = sent_temp[int(tr*(len(sent_temp))):int(tr*(len(sent_temp)))+int(d*(len(sent_temp)))]\n",
    "    test = sent_temp[int(tr*(len(sent_temp)))+int(d*(len(sent_temp))):]\n",
    "    \n",
    "    save_sentences(train, datapath+temp_name+'.train')\n",
    "    save_sentences(dev, datapath+temp_name+'.dev')\n",
    "    save_sentences(test, datapath+temp_name+'.test')\n",
    "    "
   ]
  },
  {
   "cell_type": "code",
   "execution_count": 33,
   "metadata": {},
   "outputs": [],
   "source": [
    "from nltk.tokenize import word_tokenize"
   ]
  },
  {
   "cell_type": "code",
   "execution_count": 34,
   "metadata": {},
   "outputs": [],
   "source": [
    "pos_sent = load_sentences(datapath+\"pos.txt\")"
   ]
  },
  {
   "cell_type": "code",
   "execution_count": 36,
   "metadata": {},
   "outputs": [],
   "source": [
    "pos_sent = list(filter(lambda x: x != '?' and x != '.' and x != '', pos_sent))"
   ]
  },
  {
   "cell_type": "code",
   "execution_count": 39,
   "metadata": {},
   "outputs": [],
   "source": [
    "neg_sent = load_sentences(datapath+\"neg.txt\")\n",
    "neg_sent = list(filter(lambda x: x != '?' and x != '.' and x != '', neg_sent))"
   ]
  },
  {
   "cell_type": "code",
   "execution_count": 40,
   "metadata": {},
   "outputs": [],
   "source": [
    "split_dataset(neg_sent, 'twitter_neg', 0.7, 0.2)"
   ]
  },
  {
   "cell_type": "code",
   "execution_count": 38,
   "metadata": {},
   "outputs": [],
   "source": [
    "split_dataset(pos_sent, 'twitter_pos', 0.7, 0.2)"
   ]
  },
  {
   "cell_type": "markdown",
   "metadata": {},
   "source": [
    "# Построение классификатора fasttext"
   ]
  },
  {
   "cell_type": "code",
   "execution_count": 14,
   "metadata": {},
   "outputs": [],
   "source": [
    "import fasttext"
   ]
  },
  {
   "cell_type": "code",
   "execution_count": 15,
   "metadata": {},
   "outputs": [],
   "source": [
    "from sklearn.model_selection import train_test_split"
   ]
  },
  {
   "cell_type": "code",
   "execution_count": 16,
   "metadata": {},
   "outputs": [],
   "source": [
    "data_path = 'data_twitter/'"
   ]
  },
  {
   "cell_type": "code",
   "execution_count": 41,
   "metadata": {},
   "outputs": [],
   "source": [
    "def load_sentences(filename):\n",
    "\n",
    "    sentences = []\n",
    "    with open(filename, encoding='UTF-8') as f:\n",
    "        for line in f:\n",
    "            sentences.append(line.strip('\\n'))\n",
    "    f.close()\n",
    "    return sentences"
   ]
  },
  {
   "cell_type": "code",
   "execution_count": 42,
   "metadata": {},
   "outputs": [],
   "source": [
    "pos_s = load_sentences('data_twitter/pos.txt')\n",
    "neg_s = load_sentences('data_twitter/neg.txt')"
   ]
  },
  {
   "cell_type": "code",
   "execution_count": 43,
   "metadata": {},
   "outputs": [],
   "source": [
    "X = []\n",
    "y = []\n",
    "\n",
    "\n",
    "for s in pos_s:\n",
    "    X.append(s)\n",
    "    y.append('__label__pos')\n",
    "for s in neg_s:\n",
    "    X.append(s)\n",
    "    y.append('__label__neg')"
   ]
  },
  {
   "cell_type": "code",
   "execution_count": 44,
   "metadata": {},
   "outputs": [],
   "source": [
    "X_train, X_test, y_train, y_test = train_test_split(X, y, test_size=0.1, random_state=42)"
   ]
  },
  {
   "cell_type": "code",
   "execution_count": 45,
   "metadata": {},
   "outputs": [],
   "source": [
    "with open('data_twitter/fasttext_train_twitter.txt', 'w', encoding='UTF-8') as f_train:\n",
    "    for x, y in zip(X_train, y_train):\n",
    "        line = y + ' ' + x + '\\n'\n",
    "        f_train.write(line)\n",
    "f_train.close()\n",
    "\n",
    "with open('data_twitter/fasttext_test_twitter.txt', 'w', encoding='UTF-8') as f_test:\n",
    "    for x, y in zip(X_test, y_test):\n",
    "        line = y + ' ' + x + '\\n'\n",
    "        f_test.write(line)\n",
    "f_test.close()"
   ]
  },
  {
   "cell_type": "code",
   "execution_count": 47,
   "metadata": {},
   "outputs": [],
   "source": [
    "param_dict = {\n",
    "    'lr' : [0.01, 0.05, 0.1, 0.5],\n",
    "    'epoch' : [25, 50, 100],\n",
    "    'wordNgrams': [2,3],\n",
    "    'dim': [10, 50, 100, 256]\n",
    "}"
   ]
  },
  {
   "cell_type": "code",
   "execution_count": 48,
   "metadata": {},
   "outputs": [],
   "source": [
    "def test_param(train_file, test_file, param_dict):\n",
    "    max_prec = 0\n",
    "    max_lr = 0\n",
    "    max_epoch = 0\n",
    "    max_wng = 0\n",
    "    max_dim = 0\n",
    "    best_model = ''\n",
    "    for lrate in param_dict['lr']:\n",
    "        for epoch_num in param_dict['epoch']:\n",
    "            for wng in param_dict['wordNgrams']:\n",
    "                for dim_n in param_dict['dim']:\n",
    "                    model1 = fasttext.train_supervised(input=train_file,\n",
    "                                                       lr=lrate,\n",
    "                                                       epoch=epoch_num,\n",
    "                                                       wordNgrams=wng,\n",
    "                                                       bucket=200000,\n",
    "                                                       dim=dim_n)\n",
    "                    \n",
    "                    _, prec, rec = model1.test(test_file)\n",
    "                    print('lr={}, epoch={}, wordNgrams={}, dim={}, precision={}, recall={}'.format(lrate,\n",
    "                                                                                                   epoch_num,\n",
    "                                                                                                   wng,\n",
    "                                                                                                   dim_n,\n",
    "                                                                                                   prec,\n",
    "                                                                                                   rec))\n",
    "                    if max_prec < prec:\n",
    "                        max_prec = prec\n",
    "                        max_lr = lrate\n",
    "                        max_epoch = epoch_num\n",
    "                        max_wng = wng\n",
    "                        max_dim = dim_n\n",
    "                        best_model = model1\n",
    "    print('Best parameters: lr={}, epoch={}, wordNgrams={}, dim={}'.format(max_lr,\n",
    "                                                                           max_epoch,\n",
    "                                                                           max_wng,\n",
    "                                                                           max_dim))\n",
    "    return best_model"
   ]
  },
  {
   "cell_type": "code",
   "execution_count": 49,
   "metadata": {},
   "outputs": [
    {
     "name": "stdout",
     "output_type": "stream",
     "text": [
      "lr=0.01, epoch=25, wordNgrams=2, dim=10, precision=0.9990302816590999, recall=0.9990302816590999\n",
      "lr=0.01, epoch=25, wordNgrams=2, dim=50, precision=0.9990743597655045, recall=0.9990743597655045\n",
      "lr=0.01, epoch=25, wordNgrams=2, dim=100, precision=0.9990302816590999, recall=0.9990302816590999\n",
      "lr=0.01, epoch=25, wordNgrams=2, dim=256, precision=0.9990743597655045, recall=0.9990743597655045\n",
      "lr=0.01, epoch=25, wordNgrams=3, dim=10, precision=0.9987658130206726, recall=0.9987658130206726\n",
      "lr=0.01, epoch=25, wordNgrams=3, dim=50, precision=0.9988098911270772, recall=0.9988098911270772\n",
      "lr=0.01, epoch=25, wordNgrams=3, dim=100, precision=0.9988539692334817, recall=0.9988539692334817\n",
      "lr=0.01, epoch=25, wordNgrams=3, dim=256, precision=0.9988980473398863, recall=0.9988980473398863\n",
      "lr=0.01, epoch=50, wordNgrams=2, dim=10, precision=0.9991625159783136, recall=0.9991625159783136\n",
      "lr=0.01, epoch=50, wordNgrams=2, dim=50, precision=0.9992506721911226, recall=0.9992506721911226\n",
      "lr=0.01, epoch=50, wordNgrams=2, dim=100, precision=0.999118437871909, recall=0.999118437871909\n",
      "lr=0.01, epoch=50, wordNgrams=2, dim=256, precision=0.9991625159783136, recall=0.9991625159783136\n",
      "lr=0.01, epoch=50, wordNgrams=3, dim=10, precision=0.9990302816590999, recall=0.9990302816590999\n",
      "lr=0.01, epoch=50, wordNgrams=3, dim=50, precision=0.9988980473398863, recall=0.9988980473398863\n",
      "lr=0.01, epoch=50, wordNgrams=3, dim=100, precision=0.9989421254462908, recall=0.9989421254462908\n",
      "lr=0.01, epoch=50, wordNgrams=3, dim=256, precision=0.9989421254462908, recall=0.9989421254462908\n",
      "lr=0.01, epoch=100, wordNgrams=2, dim=10, precision=0.9992065940847181, recall=0.9992065940847181\n",
      "lr=0.01, epoch=100, wordNgrams=2, dim=50, precision=0.9992947502975272, recall=0.9992947502975272\n",
      "lr=0.01, epoch=100, wordNgrams=2, dim=100, precision=0.9992506721911226, recall=0.9992506721911226\n",
      "lr=0.01, epoch=100, wordNgrams=2, dim=256, precision=0.9992506721911226, recall=0.9992506721911226\n",
      "lr=0.01, epoch=100, wordNgrams=3, dim=10, precision=0.999118437871909, recall=0.999118437871909\n",
      "lr=0.01, epoch=100, wordNgrams=3, dim=50, precision=0.9989862035526954, recall=0.9989862035526954\n",
      "lr=0.01, epoch=100, wordNgrams=3, dim=100, precision=0.9990302816590999, recall=0.9990302816590999\n",
      "lr=0.01, epoch=100, wordNgrams=3, dim=256, precision=0.9990302816590999, recall=0.9990302816590999\n",
      "lr=0.05, epoch=25, wordNgrams=2, dim=10, precision=0.9991625159783136, recall=0.9991625159783136\n",
      "lr=0.05, epoch=25, wordNgrams=2, dim=50, precision=0.9992947502975272, recall=0.9992947502975272\n",
      "lr=0.05, epoch=25, wordNgrams=2, dim=100, precision=0.9992506721911226, recall=0.9992506721911226\n",
      "lr=0.05, epoch=25, wordNgrams=2, dim=256, precision=0.9992506721911226, recall=0.9992506721911226\n",
      "lr=0.05, epoch=25, wordNgrams=3, dim=10, precision=0.9990302816590999, recall=0.9990302816590999\n",
      "lr=0.05, epoch=25, wordNgrams=3, dim=50, precision=0.9990302816590999, recall=0.9990302816590999\n",
      "lr=0.05, epoch=25, wordNgrams=3, dim=100, precision=0.9990743597655045, recall=0.9990743597655045\n",
      "lr=0.05, epoch=25, wordNgrams=3, dim=256, precision=0.9990743597655045, recall=0.9990743597655045\n",
      "lr=0.05, epoch=50, wordNgrams=2, dim=10, precision=0.9992506721911226, recall=0.9992506721911226\n",
      "lr=0.05, epoch=50, wordNgrams=2, dim=50, precision=0.9992506721911226, recall=0.9992506721911226\n",
      "lr=0.05, epoch=50, wordNgrams=2, dim=100, precision=0.9992506721911226, recall=0.9992506721911226\n",
      "lr=0.05, epoch=50, wordNgrams=2, dim=256, precision=0.9992947502975272, recall=0.9992947502975272\n",
      "lr=0.05, epoch=50, wordNgrams=3, dim=10, precision=0.9990302816590999, recall=0.9990302816590999\n",
      "lr=0.05, epoch=50, wordNgrams=3, dim=50, precision=0.9990302816590999, recall=0.9990302816590999\n",
      "lr=0.05, epoch=50, wordNgrams=3, dim=100, precision=0.9990743597655045, recall=0.9990743597655045\n",
      "lr=0.05, epoch=50, wordNgrams=3, dim=256, precision=0.9990743597655045, recall=0.9990743597655045\n",
      "lr=0.05, epoch=100, wordNgrams=2, dim=10, precision=0.9992947502975272, recall=0.9992947502975272\n",
      "lr=0.05, epoch=100, wordNgrams=2, dim=50, precision=0.9993829065103363, recall=0.9993829065103363\n",
      "lr=0.05, epoch=100, wordNgrams=2, dim=100, precision=0.9993388284039317, recall=0.9993388284039317\n",
      "lr=0.05, epoch=100, wordNgrams=2, dim=256, precision=0.9993388284039317, recall=0.9993388284039317\n",
      "lr=0.05, epoch=100, wordNgrams=3, dim=10, precision=0.999118437871909, recall=0.999118437871909\n",
      "lr=0.05, epoch=100, wordNgrams=3, dim=50, precision=0.9990302816590999, recall=0.9990302816590999\n",
      "lr=0.05, epoch=100, wordNgrams=3, dim=100, precision=0.9990743597655045, recall=0.9990743597655045\n",
      "lr=0.05, epoch=100, wordNgrams=3, dim=256, precision=0.9990743597655045, recall=0.9990743597655045\n",
      "lr=0.1, epoch=25, wordNgrams=2, dim=10, precision=0.9992065940847181, recall=0.9992065940847181\n",
      "lr=0.1, epoch=25, wordNgrams=2, dim=50, precision=0.9992947502975272, recall=0.9992947502975272\n",
      "lr=0.1, epoch=25, wordNgrams=2, dim=100, precision=0.9992947502975272, recall=0.9992947502975272\n",
      "lr=0.1, epoch=25, wordNgrams=2, dim=256, precision=0.9992065940847181, recall=0.9992065940847181\n",
      "lr=0.1, epoch=25, wordNgrams=3, dim=10, precision=0.9990302816590999, recall=0.9990302816590999\n",
      "lr=0.1, epoch=25, wordNgrams=3, dim=50, precision=0.9989421254462908, recall=0.9989421254462908\n",
      "lr=0.1, epoch=25, wordNgrams=3, dim=100, precision=0.9990743597655045, recall=0.9990743597655045\n",
      "lr=0.1, epoch=25, wordNgrams=3, dim=256, precision=0.9990743597655045, recall=0.9990743597655045\n",
      "lr=0.1, epoch=50, wordNgrams=2, dim=10, precision=0.9992065940847181, recall=0.9992065940847181\n",
      "lr=0.1, epoch=50, wordNgrams=2, dim=50, precision=0.9992506721911226, recall=0.9992506721911226\n",
      "lr=0.1, epoch=50, wordNgrams=2, dim=100, precision=0.9992947502975272, recall=0.9992947502975272\n",
      "lr=0.1, epoch=50, wordNgrams=2, dim=256, precision=0.9992947502975272, recall=0.9992947502975272\n",
      "lr=0.1, epoch=50, wordNgrams=3, dim=10, precision=0.9989862035526954, recall=0.9989862035526954\n",
      "lr=0.1, epoch=50, wordNgrams=3, dim=50, precision=0.9990302816590999, recall=0.9990302816590999\n",
      "lr=0.1, epoch=50, wordNgrams=3, dim=100, precision=0.9990743597655045, recall=0.9990743597655045\n",
      "lr=0.1, epoch=50, wordNgrams=3, dim=256, precision=0.9990302816590999, recall=0.9990302816590999\n",
      "lr=0.1, epoch=100, wordNgrams=2, dim=10, precision=0.9991625159783136, recall=0.9991625159783136\n",
      "lr=0.1, epoch=100, wordNgrams=2, dim=50, precision=0.9993388284039317, recall=0.9993388284039317\n",
      "lr=0.1, epoch=100, wordNgrams=2, dim=100, precision=0.9992947502975272, recall=0.9992947502975272\n",
      "lr=0.1, epoch=100, wordNgrams=2, dim=256, precision=0.9992506721911226, recall=0.9992506721911226\n",
      "lr=0.1, epoch=100, wordNgrams=3, dim=10, precision=0.9990302816590999, recall=0.9990302816590999\n",
      "lr=0.1, epoch=100, wordNgrams=3, dim=50, precision=0.9989862035526954, recall=0.9989862035526954\n",
      "lr=0.1, epoch=100, wordNgrams=3, dim=100, precision=0.9990743597655045, recall=0.9990743597655045\n",
      "lr=0.1, epoch=100, wordNgrams=3, dim=256, precision=0.9989421254462908, recall=0.9989421254462908\n",
      "lr=0.5, epoch=25, wordNgrams=2, dim=10, precision=0.9990302816590999, recall=0.9990302816590999\n",
      "lr=0.5, epoch=25, wordNgrams=2, dim=50, precision=0.9990743597655045, recall=0.9990743597655045\n",
      "lr=0.5, epoch=25, wordNgrams=2, dim=100, precision=0.9990743597655045, recall=0.9990743597655045\n",
      "lr=0.5, epoch=25, wordNgrams=2, dim=256, precision=0.9991625159783136, recall=0.9991625159783136\n",
      "lr=0.5, epoch=25, wordNgrams=3, dim=10, precision=0.9990302816590999, recall=0.9990302816590999\n",
      "lr=0.5, epoch=25, wordNgrams=3, dim=50, precision=0.9990302816590999, recall=0.9990302816590999\n",
      "lr=0.5, epoch=25, wordNgrams=3, dim=100, precision=0.9990302816590999, recall=0.9990302816590999\n",
      "lr=0.5, epoch=25, wordNgrams=3, dim=256, precision=0.9989862035526954, recall=0.9989862035526954\n",
      "lr=0.5, epoch=50, wordNgrams=2, dim=10, precision=0.9991625159783136, recall=0.9991625159783136\n",
      "lr=0.5, epoch=50, wordNgrams=2, dim=50, precision=0.9991625159783136, recall=0.9991625159783136\n",
      "lr=0.5, epoch=50, wordNgrams=2, dim=100, precision=0.9990743597655045, recall=0.9990743597655045\n",
      "lr=0.5, epoch=50, wordNgrams=2, dim=256, precision=0.9992947502975272, recall=0.9992947502975272\n",
      "lr=0.5, epoch=50, wordNgrams=3, dim=10, precision=0.9988980473398863, recall=0.9988980473398863\n"
     ]
    },
    {
     "name": "stdout",
     "output_type": "stream",
     "text": [
      "lr=0.5, epoch=50, wordNgrams=3, dim=50, precision=0.9989421254462908, recall=0.9989421254462908\n",
      "lr=0.5, epoch=50, wordNgrams=3, dim=100, precision=0.9988539692334817, recall=0.9988539692334817\n",
      "lr=0.5, epoch=50, wordNgrams=3, dim=256, precision=0.9990302816590999, recall=0.9990302816590999\n",
      "lr=0.5, epoch=100, wordNgrams=2, dim=10, precision=0.9992065940847181, recall=0.9992065940847181\n",
      "lr=0.5, epoch=100, wordNgrams=2, dim=50, precision=0.999118437871909, recall=0.999118437871909\n",
      "lr=0.5, epoch=100, wordNgrams=2, dim=100, precision=0.9992506721911226, recall=0.9992506721911226\n",
      "lr=0.5, epoch=100, wordNgrams=2, dim=256, precision=0.9992506721911226, recall=0.9992506721911226\n",
      "lr=0.5, epoch=100, wordNgrams=3, dim=10, precision=0.9989862035526954, recall=0.9989862035526954\n",
      "lr=0.5, epoch=100, wordNgrams=3, dim=50, precision=0.9989421254462908, recall=0.9989421254462908\n",
      "lr=0.5, epoch=100, wordNgrams=3, dim=100, precision=0.9990743597655045, recall=0.9990743597655045\n",
      "lr=0.5, epoch=100, wordNgrams=3, dim=256, precision=0.9989862035526954, recall=0.9989862035526954\n",
      "Best parameters: lr=0.05, epoch=100, wordNgrams=2, dim=50\n"
     ]
    }
   ],
   "source": [
    "best_model = test_param(data_path+'fasttext_train_twitter.txt', data_path+'fasttext_test_twitter.txt', param_dict)"
   ]
  },
  {
   "cell_type": "markdown",
   "metadata": {},
   "source": [
    "lr=0.05, epoch=50, wordNgrams=2, dim=100, precision=0.99920673394738, recall=0.99920673394738\n"
   ]
  },
  {
   "cell_type": "code",
   "execution_count": 50,
   "metadata": {},
   "outputs": [],
   "source": [
    "best_model = fasttext.train_supervised(input=data_path+'fasttext_train_twitter.txt',\n",
    "                                   lr=0.05,\n",
    "                                   epoch=50,\n",
    "                                   wordNgrams=2,\n",
    "                                   bucket=200000,\n",
    "                                   dim=100)"
   ]
  },
  {
   "cell_type": "code",
   "execution_count": 51,
   "metadata": {},
   "outputs": [
    {
     "data": {
      "text/plain": [
       "(22687, 0.9992506721911226, 0.9992506721911226)"
      ]
     },
     "execution_count": 51,
     "metadata": {},
     "output_type": "execute_result"
    }
   ],
   "source": [
    "best_model.test(data_path+'fasttext_test_twitter.txt')"
   ]
  },
  {
   "cell_type": "code",
   "execution_count": 52,
   "metadata": {},
   "outputs": [],
   "source": [
    "best_model.save_model(\"fasttext_twitter.bin\")"
   ]
  },
  {
   "cell_type": "code",
   "execution_count": null,
   "metadata": {},
   "outputs": [],
   "source": []
  }
 ],
 "metadata": {
  "kernelspec": {
   "display_name": "Python 3",
   "language": "python",
   "name": "python3"
  },
  "language_info": {
   "codemirror_mode": {
    "name": "ipython",
    "version": 3
   },
   "file_extension": ".py",
   "mimetype": "text/x-python",
   "name": "python",
   "nbconvert_exporter": "python",
   "pygments_lexer": "ipython3",
   "version": "3.7.5"
  }
 },
 "nbformat": 4,
 "nbformat_minor": 4
}
